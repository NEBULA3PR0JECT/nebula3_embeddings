{
 "cells": [
  {
   "cell_type": "code",
   "execution_count": null,
   "metadata": {},
   "outputs": [],
   "source": [
    "!ls "
   ]
  },
  {
   "cell_type": "code",
   "execution_count": null,
   "metadata": {},
   "outputs": [],
   "source": [
    "import pickle"
   ]
  },
  {
   "cell_type": "code",
   "execution_count": null,
   "metadata": {},
   "outputs": [],
   "source": [
    "file1 = open('nebula3_embeddings/events', 'rb')\n",
    "events = pickle.load(file1)"
   ]
  },
  {
   "cell_type": "code",
   "execution_count": null,
   "metadata": {},
   "outputs": [],
   "source": []
  },
  {
   "cell_type": "code",
   "execution_count": null,
   "metadata": {},
   "outputs": [],
   "source": [
    "from database.milvus import MilvusAPI\n",
    "milvus_events = MilvusAPI(\n",
    "            'milvus', 'vcomet_vit_l14_embedded_event', 'nebula_visualcomet', 768)\n",
    "milvus_places = MilvusAPI(\n",
    "            'milvus', 'vcomet_vit_l14_embedded_place', 'nebula_visualcomet', 768)\n",
    "milvus_actions = MilvusAPI(\n",
    "            'milvus', 'vcomet_vit_l14_embedded_actions', 'nebula_visualcomet', 768)\n"
   ]
  },
  {
   "cell_type": "code",
   "execution_count": null,
   "metadata": {},
   "outputs": [],
   "source": [
    "for data in events:\n",
    "    #print(data[vector])\n",
    "    vector = data['vector']\n",
    "    data['vector'] = ''\n",
    "    milvus_events.insert_vectors([vector], [data])\n",
    "    "
   ]
  },
  {
   "cell_type": "code",
   "execution_count": null,
   "metadata": {},
   "outputs": [],
   "source": []
  }
 ],
 "metadata": {
  "kernelspec": {
   "display_name": "Python 3 (ipykernel)",
   "language": "python",
   "name": "python3"
  },
  "orig_nbformat": 4
 },
 "nbformat": 4,
 "nbformat_minor": 2
}
